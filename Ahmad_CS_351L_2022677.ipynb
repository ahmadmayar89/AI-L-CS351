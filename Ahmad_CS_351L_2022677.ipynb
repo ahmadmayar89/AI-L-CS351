{
  "nbformat": 4,
  "nbformat_minor": 0,
  "metadata": {
    "colab": {
      "provenance": []
    },
    "kernelspec": {
      "name": "python3",
      "display_name": "Python 3"
    },
    "language_info": {
      "name": "python"
    }
  },
  "cells": [
    {
      "cell_type": "code",
      "execution_count": 1,
      "metadata": {
        "id": "4d4Gi4d6Hj0q",
        "colab": {
          "base_uri": "https://localhost:8080/"
        },
        "outputId": "c3836994-0a0a-4ab8-f13e-b940c3795d48"
      },
      "outputs": [
        {
          "output_type": "stream",
          "name": "stdout",
          "text": [
            "Imagine a number between 1 and 100. I'll try to guess it using a randomized BFS strategy.\n",
            "Attempt 1/10: My guess is 50.\n",
            "Type 'h' if it's too high, 'l' if it's too low, or 'c' if it's correct: l\n",
            "Attempt 2/10: My guess is 52.\n",
            "Type 'h' if it's too high, 'l' if it's too low, or 'c' if it's correct: l\n",
            "Attempt 3/10: My guess is 96.\n",
            "Type 'h' if it's too high, 'l' if it's too low, or 'c' if it's correct: h\n",
            "Attempt 4/10: My guess is 80.\n",
            "Type 'h' if it's too high, 'l' if it's too low, or 'c' if it's correct: h\n",
            "Attempt 5/10: My guess is 73.\n",
            "Type 'h' if it's too high, 'l' if it's too low, or 'c' if it's correct: h\n",
            "Attempt 6/10: My guess is 56.\n",
            "Type 'h' if it's too high, 'l' if it's too low, or 'c' if it's correct: h\n",
            "Attempt 7/10: My guess is 55.\n",
            "Type 'h' if it's too high, 'l' if it's too low, or 'c' if it's correct: c\n",
            "I guessed your number in 7 tries using randomized BFS!\n"
          ]
        }
      ],
      "source": [
        "import random\n",
        "from collections import deque\n",
        "\n",
        "def ai_guess_number_bfs_random_limited():\n",
        "    # Ask the player to think of a number\n",
        "    print(\"Imagine a number between 1 and 100. I'll try to guess it using a randomized BFS strategy.\")\n",
        "\n",
        "    # Define the possible range\n",
        "    min_value = 1\n",
        "    max_value = 100\n",
        "    # Set the maximum allowed attempts\n",
        "    max_guesses = 10\n",
        "    guess_count = 0\n",
        "\n",
        "    # Create a deque with all numbers from 1 to 100\n",
        "    possible_guesses = deque(range(min_value, max_value + 1))\n",
        "\n",
        "    # AI guessing loop using randomized BFS\n",
        "    while possible_guesses and guess_count < max_guesses:\n",
        "        # Select a random guess from the remaining possibilities\n",
        "        current_guess = random.choice(possible_guesses)\n",
        "        guess_count += 1\n",
        "\n",
        "        print(f\"Attempt {guess_count}/{max_guesses}: My guess is {current_guess}.\")\n",
        "        # Get feedback from the player\n",
        "        feedback = input(\"Type 'h' if it's too high, 'l' if it's too low, or 'c' if it's correct: \").strip().lower()\n",
        "\n",
        "        if feedback == 'c':\n",
        "            # AI guessed the correct number\n",
        "            print(f\"I guessed your number in {guess_count} tries using randomized BFS!\")\n",
        "            return\n",
        "        elif feedback == 'h':\n",
        "            # Remove guesses that are too high\n",
        "            possible_guesses = deque(num for num in possible_guesses if num < current_guess)\n",
        "        elif feedback == 'l':\n",
        "            # Remove guesses that are too low\n",
        "            possible_guesses = deque(num for num in possible_guesses if num > current_guess)\n",
        "        else:\n",
        "            print(\"Please enter a valid response: 'h', 'l', or 'c'.\")\n",
        "\n",
        "    # If the number wasn't guessed within the limit\n",
        "    print(f\"Sorry, I couldn't guess the number within {max_guesses} attempts.\")\n",
        "\n",
        "# Run the game\n",
        "ai_guess_number_bfs_random_limited()\n"
      ]
    },
    {
      "cell_type": "code",
      "source": [
        "import random\n",
        "\n",
        "def ai_guess_number_dfs_random():\n",
        "    # Ask the player to think of a number\n",
        "    print(\"Please think of a number between 1 and 100, and I'll try to guess it using a random DFS-like approach.\")\n",
        "\n",
        "    # Set the initial range for the guessing game\n",
        "    min_range = 1\n",
        "    max_range = 100\n",
        "    attempt_count = 0\n",
        "    max_guesses = 10\n",
        "\n",
        "    # Use a stack to simulate DFS with randomized guessing\n",
        "    possible_numbers = list(range(min_range, max_range + 1))\n",
        "\n",
        "    # Start guessing loop with DFS-like strategy\n",
        "    while possible_numbers and attempt_count < max_guesses:\n",
        "        # Randomly choose a number from the stack\n",
        "        current_guess = random.choice(possible_numbers)\n",
        "        possible_numbers.remove(current_guess)  # Remove the guessed number\n",
        "        attempt_count += 1\n",
        "\n",
        "        print(f\"Attempt {attempt_count}/{max_guesses}: My guess is {current_guess}.\")\n",
        "        # Get player's feedback\n",
        "        feedback = input(\"Respond with 'h' (too high), 'l' (too low), or 'c' (correct): \").strip().lower()\n",
        "\n",
        "        if feedback == 'c':\n",
        "            # If the guess is correct\n",
        "            print(f\"Yay! I guessed your number in {attempt_count} tries using randomized DFS!\")\n",
        "            return\n",
        "        elif feedback == 'h':\n",
        "            # Adjust the maximum boundary and keep numbers less than the guess\n",
        "            max_range = current_guess - 1\n",
        "            possible_numbers = [num for num in possible_numbers if num <= max_range]\n",
        "        elif feedback == 'l':\n",
        "            # Adjust the minimum boundary and keep numbers greater than the guess\n",
        "            min_range = current_guess + 1\n",
        "            possible_numbers = [num for num in possible_numbers if num >= min_range]\n",
        "        else:\n",
        "            print(\"Invalid input. Please enter 'h', 'l', or 'c'.\")\n",
        "\n",
        "    # If the AI couldn't guess the number within the attempts\n",
        "    print(f\"Oops! I couldn't guess the number within {max_guesses} tries. Maybe next time!\")\n",
        "\n",
        "# Run the game\n",
        "ai_guess_number_dfs_random()\n"
      ],
      "metadata": {
        "colab": {
          "base_uri": "https://localhost:8080/"
        },
        "id": "penpPoIQIchM",
        "outputId": "43ab5d2c-7994-4a49-ad60-f44a3750b68d"
      },
      "execution_count": 3,
      "outputs": [
        {
          "output_type": "stream",
          "name": "stdout",
          "text": [
            "Please think of a number between 1 and 100, and I'll try to guess it using a random DFS-like approach.\n",
            "Attempt 1/10: My guess is 90.\n",
            "Respond with 'h' (too high), 'l' (too low), or 'c' (correct): l\n",
            "Attempt 2/10: My guess is 92.\n",
            "Respond with 'h' (too high), 'l' (too low), or 'c' (correct): c\n",
            "Yay! I guessed your number in 2 tries using randomized DFS!\n"
          ]
        }
      ]
    },
    {
      "cell_type": "code",
      "source": [
        "import random\n",
        "\n",
        "def ai_guessing_game_random():\n",
        "    print(\"Please think of a number between 1 and 100, and I'll attempt to guess it using a randomized method.\")\n",
        "\n",
        "    min_range = 1\n",
        "    max_range = 100\n",
        "    attempts = 0\n",
        "    max_guesses = 10\n",
        "\n",
        "    # Create a set of all possible numbers to guess from\n",
        "    available_guesses = set(range(min_range, max_range + 1))\n",
        "\n",
        "    while available_guesses and attempts < max_guesses:\n",
        "        # Select a random guess from the remaining available guesses\n",
        "        guess = random.choice(list(available_guesses))\n",
        "        attempts += 1\n",
        "\n",
        "        print(f\"Attempt {attempts}/{max_guesses}: My guess is {guess}.\")\n",
        "        # Get feedback from the player on the guess\n",
        "        feedback = input(\"Is it 'h' for too high, 'l' for too low, or 'c' for correct? \").strip().lower()\n",
        "\n",
        "        if feedback == 'c':\n",
        "            print(f\"I got it in {attempts} tries using random guessing!\")\n",
        "            return\n",
        "        elif feedback == 'h':\n",
        "            # If the guess is too high, remove numbers greater than the guess\n",
        "            available_guesses = {num for num in available_guesses if num < guess}\n",
        "        elif feedback == 'l':\n",
        "            # If the guess is too low, remove numbers less than the guess\n",
        "            available_guesses = {num for num in available_guesses if num > guess}\n",
        "        else:\n",
        "            print(\"Please provide a valid response: 'h', 'l', or 'c'.\")\n",
        "\n",
        "    # If the AI fails to guess the number in the allowed attempts\n",
        "    print(f\"Unfortunately, I couldn't guess the number within {max_guesses} attempts.\")\n",
        "\n",
        "# Start the game\n",
        "ai_guessing_game_random()\n"
      ],
      "metadata": {
        "colab": {
          "base_uri": "https://localhost:8080/"
        },
        "id": "Fqemgv78I4F_",
        "outputId": "424ba89f-07e6-49d2-d897-1e877eef4815"
      },
      "execution_count": 5,
      "outputs": [
        {
          "output_type": "stream",
          "name": "stdout",
          "text": [
            "Please think of a number between 1 and 100, and I'll attempt to guess it using a randomized method.\n",
            "Attempt 1/10: My guess is 46.\n",
            "Is it 'h' for too high, 'l' for too low, or 'c' for correct? h\n",
            "Attempt 2/10: My guess is 21.\n",
            "Is it 'h' for too high, 'l' for too low, or 'c' for correct? h\n",
            "Attempt 3/10: My guess is 7.\n",
            "Is it 'h' for too high, 'l' for too low, or 'c' for correct? c\n",
            "I got it in 3 tries using random guessing!\n"
          ]
        }
      ]
    }
  ]
}